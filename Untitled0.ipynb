{
  "nbformat": 4,
  "nbformat_minor": 0,
  "metadata": {
    "colab": {
      "provenance": [],
      "authorship_tag": "ABX9TyMquhb8XQpWSqWlVTyAC4LO",
      "include_colab_link": true
    },
    "kernelspec": {
      "name": "python3",
      "display_name": "Python 3"
    },
    "language_info": {
      "name": "python"
    }
  },
  "cells": [
    {
      "cell_type": "markdown",
      "metadata": {
        "id": "view-in-github",
        "colab_type": "text"
      },
      "source": [
        "<a href=\"https://colab.research.google.com/github/ELIASNVARRO/Programacion-Python/blob/main/Untitled0.ipynb\" target=\"_parent\"><img src=\"https://colab.research.google.com/assets/colab-badge.svg\" alt=\"Open In Colab\"/></a>"
      ]
    },
    {
      "cell_type": "markdown",
      "source": [],
      "metadata": {
        "id": "sQ7rBb5Nr0-y"
      }
    },
    {
      "cell_type": "markdown",
      "source": [
        "# Mis Apuntes de Python\n",
        "### Fundamentos de Programación 202420\n",
        "**Nombre:** Elías Navarro\n",
        "\n",
        "**_email:_** elias.navaro@upb.edu.co\n",
        "\n",
        "*Fecha de creación:* 28 de agosto, 2024\n",
        "\n"
      ],
      "metadata": {
        "id": "ALon1oVZr1B6"
      }
    },
    {
      "cell_type": "code",
      "source": [
        "# Mis primero pasos con Python\n",
        "print(\"Hola Mundo\")\n",
        "name= \"Elias\"\n",
        "print(name)\n",
        "age= 18\n",
        "print(age)\n",
        "city = \"Cerete\"\n",
        "\n",
        "print(\"Hola, mi nombre es\", name, \"tengo\", age,\"años\",\"soy de\",city)\n",
        "\n",
        "#Numeros\n",
        "a = 10\n",
        "b= 2.5\n",
        "c = 5.5\n",
        "print(type(a))\n",
        "print(type(b))\n",
        "print(type(d))\n"
      ],
      "metadata": {
        "colab": {
          "base_uri": "https://localhost:8080/"
        },
        "id": "djgvw0mTwMet",
        "outputId": "e07a85e7-421b-4880-b6b6-32c7dad7f5cd"
      },
      "execution_count": null,
      "outputs": [
        {
          "output_type": "stream",
          "name": "stdout",
          "text": [
            "Hola Mundo\n",
            "Elias\n",
            "18\n",
            "Hola, mi nombre es Elias tengo 18 años soy de Cerete\n",
            "<class 'int'>\n",
            "<class 'float'>\n",
            "<class 'float'>\n"
          ]
        }
      ]
    },
    {
      "cell_type": "code",
      "source": [
        "print(a+b-c)\n",
        "print(a**2)\n",
        "print(a % c)\n",
        "d = (a*c)/(a+c)\n",
        "print(d)\n",
        "input(\"escribe el valor de e\")\n"
      ],
      "metadata": {
        "colab": {
          "base_uri": "https://localhost:8080/",
          "height": 122
        },
        "id": "qsjQtvZYzDGG",
        "outputId": "a5965ed8-e4f8-44f4-873b-b7ed5d90576c"
      },
      "execution_count": null,
      "outputs": [
        {
          "name": "stdout",
          "output_type": "stream",
          "text": [
            "8.0\n",
            "121\n",
            "0.0\n",
            "3.6666666666666665\n",
            "escribe el valor de e12\n"
          ]
        },
        {
          "output_type": "execute_result",
          "data": {
            "text/plain": [
              "'12'"
            ],
            "application/vnd.google.colaboratory.intrinsic+json": {
              "type": "string"
            }
          },
          "metadata": {},
          "execution_count": 86
        }
      ]
    },
    {
      "cell_type": "code",
      "source": [
        "name =\"Elias\"\n",
        "lastname = \"Navaro\"\n",
        "fullname = name +\" camilo \"+ lastname\n",
        "print(\"-_-_\"*160)\n",
        "print(fullname)\n",
        "print( \"-_-_\"*160)\n"
      ],
      "metadata": {
        "colab": {
          "base_uri": "https://localhost:8080/"
        },
        "id": "SbpibHoa1saw",
        "outputId": "5a808981-ad50-4f40-8918-185fc42b013e"
      },
      "execution_count": null,
      "outputs": [
        {
          "output_type": "stream",
          "name": "stdout",
          "text": [
            "-_-_-_-_-_-_-_-_-_-_-_-_-_-_-_-_-_-_-_-_-_-_-_-_-_-_-_-_-_-_-_-_-_-_-_-_-_-_-_-_-_-_-_-_-_-_-_-_-_-_-_-_-_-_-_-_-_-_-_-_-_-_-_-_-_-_-_-_-_-_-_-_-_-_-_-_-_-_-_-_-_-_-_-_-_-_-_-_-_-_-_-_-_-_-_-_-_-_-_-_-_-_-_-_-_-_-_-_-_-_-_-_-_-_-_-_-_-_-_-_-_-_-_-_-_-_-_-_-_-_-_-_-_-_-_-_-_-_-_-_-_-_-_-_-_-_-_-_-_-_-_-_-_-_-_-_-_-_-_-_-_-_-_-_-_-_-_-_-_-_-_-_-_-_-_-_-_-_-_-_-_-_-_-_-_-_-_-_-_-_-_-_-_-_-_-_-_-_-_-_-_-_-_-_-_-_-_-_-_-_-_-_-_-_-_-_-_-_-_-_-_-_-_-_-_-_-_-_-_-_-_-_-_-_-_-_-_-_-_-_-_-_-_-_-_-_-_-_-_-_-_-_-_-_-_-_-_-_-_-_-_-_-_-_-_-_-_-_-_-_-_-_-_-_-_-_-_-_-_-_-_-_-_-_-_-_-_-_-_-_-_-_-_-_-_-_-_-_-_-_-_-_-_-_-_-_-_-_-_-_-_-_-_-_-_-_-_-_-_-_\n",
            "Elias camilo Navaro\n",
            "-_-_-_-_-_-_-_-_-_-_-_-_-_-_-_-_-_-_-_-_-_-_-_-_-_-_-_-_-_-_-_-_-_-_-_-_-_-_-_-_-_-_-_-_-_-_-_-_-_-_-_-_-_-_-_-_-_-_-_-_-_-_-_-_-_-_-_-_-_-_-_-_-_-_-_-_-_-_-_-_-_-_-_-_-_-_-_-_-_-_-_-_-_-_-_-_-_-_-_-_-_-_-_-_-_-_-_-_-_-_-_-_-_-_-_-_-_-_-_-_-_-_-_-_-_-_-_-_-_-_-_-_-_-_-_-_-_-_-_-_-_-_-_-_-_-_-_-_-_-_-_-_-_-_-_-_-_-_-_-_-_-_-_-_-_-_-_-_-_-_-_-_-_-_-_-_-_-_-_-_-_-_-_-_-_-_-_-_-_-_-_-_-_-_-_-_-_-_-_-_-_-_-_-_-_-_-_-_-_-_-_-_-_-_-_-_-_-_-_-_-_-_-_-_-_-_-_-_-_-_-_-_-_-_-_-_-_-_-_-_-_-_-_-_-_-_-_-_-_-_-_-_-_-_-_-_-_-_-_-_-_-_-_-_-_-_-_-_-_-_-_-_-_-_-_-_-_-_-_-_-_-_-_-_-_-_-_-_-_-_-_-_-_-_-_-_-_-_-_-_-_-_-_-_-_-_-_-_-_-_-_-_-_-_-_-_-_-_-_-_\n"
          ]
        }
      ]
    },
    {
      "cell_type": "code",
      "source": [
        "a = 20\n",
        "b = 5\n",
        "print(\"a=\",a)\n",
        "print(\"b=\",b)\n",
        "a +=b\n",
        "print(\"a+=\",a)\n",
        "a -=b\n",
        "print(\"a-=\",a)\n",
        "b /=a\n",
        "print(\"b/=\",b)"
      ],
      "metadata": {
        "colab": {
          "base_uri": "https://localhost:8080/"
        },
        "id": "wG8sY8LV22B8",
        "outputId": "53e266ce-833c-41cb-e6d7-6944b2676142"
      },
      "execution_count": null,
      "outputs": [
        {
          "output_type": "stream",
          "name": "stdout",
          "text": [
            "a= 20\n",
            "b= 5\n",
            "a+= 25\n",
            "a-= 20\n",
            "b/= 0.25\n"
          ]
        }
      ]
    },
    {
      "cell_type": "code",
      "source": [
        "#Multilinea\n",
        "song = \"\"\"Zapatito roto\n",
        "Que yo ya cambié por otro\n",
        "Porque me di cuenta\n",
        "Que no me convine\n",
        "Por que tú sabes lo que tiene\n",
        "Es el zapatito roto\n",
        "Que yo ya cambié por otro\n",
        "Porque me di cuenta\n",
        "Que no me conviene (Tego Calderón)\n",
        "Porque no sabes lo que tiene\"\"\"\n",
        "print(song)\n"
      ],
      "metadata": {
        "colab": {
          "base_uri": "https://localhost:8080/"
        },
        "id": "28p3DqPg4jgd",
        "outputId": "59cae5ba-7e7c-4c93-8570-858d9d6ed792"
      },
      "execution_count": null,
      "outputs": [
        {
          "output_type": "stream",
          "name": "stdout",
          "text": [
            "Zapatito roto\n",
            "Que yo ya cambié por otro\n",
            "Porque me di cuenta\n",
            "Que no me convine\n",
            "Por que tú sabes lo que tiene\n",
            "Es el zapatito roto\n",
            "Que yo ya cambié por otro\n",
            "Porque me di cuenta\n",
            "Que no me conviene (Tego Calderón)\n",
            "Porque no sabes lo que tiene\n"
          ]
        }
      ]
    },
    {
      "cell_type": "code",
      "source": [
        "user_age = input(\"¿cuantos años tienes?\")\n",
        "print(\"tu edad es\" +\"\"+ user_age +\"\"+ \"años\")\n",
        "\n",
        "a = int(input(\"escribe un numero\"))\n",
        "b = int(input(\"escribe otro numero\"))\n",
        "print(a+b)"
      ],
      "metadata": {
        "colab": {
          "base_uri": "https://localhost:8080/"
        },
        "id": "N0OZo9rM43Wt",
        "outputId": "9497317d-d056-4464-ffe5-7cdc05db5eb6"
      },
      "execution_count": null,
      "outputs": [
        {
          "output_type": "stream",
          "name": "stdout",
          "text": [
            "¿cuantos años tienes?|12\n",
            "tu edad es|12años\n",
            "escribe un numero12\n",
            "escribe otro numero12\n",
            "24\n"
          ]
        }
      ]
    },
    {
      "cell_type": "code",
      "source": [
        "##Programa Para calcular Las Ganancias y Pérdidas en un Negocio de Venta de Autos\n",
        "\n",
        "## Asignación de valores\n",
        "precioCompra = 80\n",
        "costoReparaciones = 10\n",
        "precioVenta = 200\n",
        "\n",
        "## Cálculo del costo total invertido\n",
        "costoTotalInvertido = precioCompra + costoReparaciones\n",
        "## Cálculo de la comisión pagada al vendedor\n",
        "comisionVendedor = precioVenta * 0.1\n",
        "## Cálculo de la ganancia o pérdida después de la venta\n",
        "gananciaPerdida = precioVenta - (costoTotalInvertido + comisionVendedor)\n",
        "## Presentación de resultados\n",
        "print(costoTotalInvertido)\n",
        "print(comisionVendedor)\n",
        "print(gananciaPerdida)\n"
      ],
      "metadata": {
        "colab": {
          "base_uri": "https://localhost:8080/"
        },
        "id": "Xwoe0NAE7Rzq",
        "outputId": "62915ba1-bdbe-47a0-ceca-dcdd711e43cc"
      },
      "execution_count": 23,
      "outputs": [
        {
          "output_type": "stream",
          "name": "stdout",
          "text": [
            "90\n",
            "20.0\n",
            "90.0\n"
          ]
        }
      ]
    },
    {
      "cell_type": "code",
      "source": [
        "# codigo para pendiente de una recta\n",
        "\n",
        "# ingrese las coordenadas\n",
        "x1 = float(input(\"Ingrese la coordenada X1: \"))\n",
        "y1 = float(input(\"Ingrese la coordenada Y1: \"))\n",
        "x2 = float(input(\"Ingrese la coordenada X2: \"))\n",
        "y2 = float(input(\"Ingrese la coordenada Y2: \"))\n",
        "\n",
        "# Calculos\n",
        "pendiente = (y2 - y1) / (x2 - x1)\n",
        "# 5resultado\n",
        "print(\"La pendiente de la recta es:\", pendiente)"
      ],
      "metadata": {
        "colab": {
          "base_uri": "https://localhost:8080/"
        },
        "id": "jJzBwbbUAuSo",
        "outputId": "3c4c2a50-d2e8-43b5-8c7f-6f42f89d14b3"
      },
      "execution_count": 22,
      "outputs": [
        {
          "output_type": "stream",
          "name": "stdout",
          "text": [
            "Ingrese la coordenada X1: 2\n",
            "Ingrese la coordenada Y1: 1\n",
            "Ingrese la coordenada X2: 4\n",
            "Ingrese la coordenada Y2: 1\n",
            "La pendiente de la recta es: 0.0\n"
          ]
        }
      ]
    }
  ]
}